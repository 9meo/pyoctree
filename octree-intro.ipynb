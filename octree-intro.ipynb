{
 "cells": [
  {
   "cell_type": "markdown",
   "metadata": {},
   "source": [
    "# Octree introduction\n",
    "---\n",
    "Requirements:\n",
    "* octree\n",
    "* vtk >= 6.2.0"
   ]
  },
  {
   "cell_type": "code",
   "execution_count": 1,
   "metadata": {
    "collapsed": false
   },
   "outputs": [],
   "source": [
    "# Imports\n",
    "%matplotlib inline\n",
    "import matplotlib.pyplot as plt\n",
    "import numpy as np\n",
    "import vtk\n",
    "import octree"
   ]
  },
  {
   "cell_type": "code",
   "execution_count": 2,
   "metadata": {
    "collapsed": false
   },
   "outputs": [
    {
     "name": "stdout",
     "output_type": "stream",
     "text": [
      "6.2.0\n"
     ]
    }
   ],
   "source": [
    "print vtk.vtkVersion.GetVTKVersion()"
   ]
  },
  {
   "cell_type": "markdown",
   "metadata": {},
   "source": [
    "## Load 3D model geometry (stl file)"
   ]
  },
  {
   "cell_type": "code",
   "execution_count": 100,
   "metadata": {
    "collapsed": false
   },
   "outputs": [
    {
     "name": "stdout",
     "output_type": "stream",
     "text": [
      "Number of points    = 38214\n",
      "Number of triangles = 76428\n"
     ]
    }
   ],
   "source": [
    "# Read in stl file using vtk\n",
    "reader = vtk.vtkSTLReader()\n",
    "reader.SetFileName(\"knot.stl\")\n",
    "reader.MergingOn()\n",
    "reader.Update()\n",
    "stl = reader.GetOutput()\n",
    "print \"Number of points    = %d\" % stl.GetNumberOfPoints()\n",
    "print \"Number of triangles = %d\" % stl.GetNumberOfCells()"
   ]
  },
  {
   "cell_type": "code",
   "execution_count": 4,
   "metadata": {
    "collapsed": false
   },
   "outputs": [],
   "source": [
    "# Extract polygon info from stl\n",
    "\n",
    "# 1. Get array of point coordinates\n",
    "numPoints   = stl.GetNumberOfPoints()\n",
    "pointCoords = np.zeros((numPoints,3),dtype=float)\n",
    "for i in xrange(numPoints):\n",
    "    pointCoords[i,:] = stl.GetPoint(i)\n",
    "    \n",
    "# 2. Get polygon connectivity\n",
    "numPolys     = stl.GetNumberOfCells()\n",
    "connectivity = np.zeros((numPolys,3),dtype=np.int32)\n",
    "for i in xrange(numPolys):\n",
    "    atri = stl.GetCell(i)\n",
    "    ids = atri.GetPointIds()\n",
    "    for j in range(3):\n",
    "        connectivity[i,j] = ids.GetId(j)"
   ]
  },
  {
   "cell_type": "markdown",
   "metadata": {},
   "source": [
    "## Generate octree"
   ]
  },
  {
   "cell_type": "code",
   "execution_count": 5,
   "metadata": {
    "collapsed": false
   },
   "outputs": [],
   "source": [
    "# Create octree structure containing stl poly mesh\n",
    "tree = octree.PyOctree(pointCoords,connectivity)"
   ]
  },
  {
   "cell_type": "code",
   "execution_count": 6,
   "metadata": {
    "collapsed": false
   },
   "outputs": [
    {
     "name": "stdout",
     "output_type": "stream",
     "text": [
      "Size of Octree               = 3.115mm\n",
      "Number of Octnodes in Octree = 2497\n",
      "Number of polys in Octree    = 76428\n"
     ]
    }
   ],
   "source": [
    "# Print out basic Octree data\n",
    "print \"Size of Octree               = %.3fmm\" % tree.root.size\n",
    "print \"Number of Octnodes in Octree = %d\" % tree.getNumberOfNodes()\n",
    "print \"Number of polys in Octree    = %d\" % tree.numPolys"
   ]
  },
  {
   "cell_type": "markdown",
   "metadata": {},
   "source": [
    "## Explore tree nodes"
   ]
  },
  {
   "cell_type": "code",
   "execution_count": 103,
   "metadata": {
    "collapsed": false
   },
   "outputs": [
    {
     "data": {
      "text/plain": [
       "2497"
      ]
     },
     "execution_count": 103,
     "metadata": {},
     "output_type": "execute_result"
    }
   ],
   "source": [
    "# Get number of nodes in tree\n",
    "tree.getNumberOfNodes()"
   ]
  },
  {
   "cell_type": "code",
   "execution_count": 104,
   "metadata": {
    "collapsed": false
   },
   "outputs": [
    {
     "data": {
      "text/plain": [
       "<octree.PyOctnode at 0x92967b8>"
      ]
     },
     "execution_count": 104,
     "metadata": {},
     "output_type": "execute_result"
    }
   ],
   "source": [
    "# Get the root node\n",
    "tree.root"
   ]
  },
  {
   "cell_type": "code",
   "execution_count": 97,
   "metadata": {
    "collapsed": false
   },
   "outputs": [
    {
     "data": {
      "text/plain": [
       "[<octree.PyOctnode at 0x16b91908>,\n",
       " <octree.PyOctnode at 0x16b91f28>,\n",
       " <octree.PyOctnode at 0x16b919e8>,\n",
       " <octree.PyOctnode at 0x16b91d30>,\n",
       " <octree.PyOctnode at 0x16b91240>,\n",
       " <octree.PyOctnode at 0x16b91c50>,\n",
       " <octree.PyOctnode at 0x16b91d68>,\n",
       " <octree.PyOctnode at 0x16b91dd8>]"
      ]
     },
     "execution_count": 97,
     "metadata": {},
     "output_type": "execute_result"
    }
   ],
   "source": [
    "# Get the branches of the root node\n",
    "tree.root.branches"
   ]
  },
  {
   "cell_type": "markdown",
   "metadata": {},
   "source": [
    "All tree branches are given a unique id. For example:\n",
    "\n",
    "* '0' is the root node\n",
    "* '0-0' is the first branch of the root node\n",
    "* '0-7' is the eight (and last) branch of the root node\n",
    "* '0-0-0' is the first branch of octnode '0-0' etc."
   ]
  },
  {
   "cell_type": "code",
   "execution_count": 99,
   "metadata": {
    "collapsed": false
   },
   "outputs": [
    {
     "data": {
      "text/plain": [
       "<octree.PyOctnode at 0x16b91828>"
      ]
     },
     "execution_count": 99,
     "metadata": {},
     "output_type": "execute_result"
    }
   ],
   "source": [
    "# And octnode can be accessed using its id. For example:\n",
    "tree.getNodeFromId('0-0')"
   ]
  },
  {
   "cell_type": "code",
   "execution_count": 47,
   "metadata": {
    "collapsed": false
   },
   "outputs": [
    {
     "name": "stdout",
     "output_type": "stream",
     "text": [
      "False\n",
      "True\n"
     ]
    }
   ],
   "source": [
    "# An octnode that has no branches is a leaf\n",
    "print tree.getNodeFromId('0-0').isLeaf\n",
    "print tree.getNodeFromId('0-0-0').isLeaf"
   ]
  },
  {
   "cell_type": "markdown",
   "metadata": {},
   "source": [
    "## Explore polygons in tree"
   ]
  },
  {
   "cell_type": "code",
   "execution_count": 106,
   "metadata": {
    "collapsed": false
   },
   "outputs": [
    {
     "data": {
      "text/plain": [
       "[<octree.PyTri at 0x40b5630>,\n",
       " <octree.PyTri at 0x8af8fd8>,\n",
       " <octree.PyTri at 0x9267678>,\n",
       " <octree.PyTri at 0x9267720>,\n",
       " <octree.PyTri at 0x92676a8>,\n",
       " <octree.PyTri at 0x92676f0>,\n",
       " <octree.PyTri at 0x9267690>,\n",
       " <octree.PyTri at 0x9267708>,\n",
       " <octree.PyTri at 0x92676d8>,\n",
       " <octree.PyTri at 0x9267618>]"
      ]
     },
     "execution_count": 106,
     "metadata": {},
     "output_type": "execute_result"
    }
   ],
   "source": [
    "# Get list of first 10 polygons stored in tree\n",
    "tree.polyList[0:10]"
   ]
  },
  {
   "cell_type": "code",
   "execution_count": 107,
   "metadata": {
    "collapsed": false
   },
   "outputs": [
    {
     "name": "stdout",
     "output_type": "stream",
     "text": [
      "Poly label =  0\n",
      "Vertex coordinates = ([ 2.54317427  7.41368246  2.8599999 ],[ 2.51169538  7.40434027  2.8599999 ],[ 2.48648334  7.48027468  2.8599999 ])\n",
      "Face normal direction =  [ 0.  0. -1.]\n",
      "Perp. distance from origin =  -2.8599998951\n"
     ]
    }
   ],
   "source": [
    "# Get details of the first polygon in the tree\n",
    "tri = tree.polyList[0]\n",
    "print 'Poly label = ', tri.label\n",
    "print 'Vertex coordinates = (%s,%s,%s)'  % (tri.vertices[0], tri.vertices[1], tri.vertices[2] )\n",
    "print 'Face normal direction = ', tri.N\n",
    "print 'Perp. distance from origin = ', tri.D"
   ]
  },
  {
   "cell_type": "markdown",
   "metadata": {},
   "source": [
    "## Find intersections between 3D object and ray"
   ]
  },
  {
   "cell_type": "code",
   "execution_count": 116,
   "metadata": {
    "collapsed": false
   },
   "outputs": [],
   "source": [
    "# Create a list containing a single ray\n",
    "xs,xe,ys,ye,zs,ze = stl.GetBounds()\n",
    "x = 0.5*np.mean([xs,xe])\n",
    "y = np.mean([ys,ye])\n",
    "rayPointList = np.array([[[x,y,zs],[x,y,ze]]],dtype=np.float32)"
   ]
  },
  {
   "cell_type": "code",
   "execution_count": 118,
   "metadata": {
    "collapsed": false
   },
   "outputs": [
    {
     "name": "stdout",
     "output_type": "stream",
     "text": [
      "True\n"
     ]
    }
   ],
   "source": [
    "# Find if an intersection occurred\n",
    "for i in tree.rayIntersections(rayPointList):\n",
    "    print i==1"
   ]
  },
  {
   "cell_type": "code",
   "execution_count": 123,
   "metadata": {
    "collapsed": false
   },
   "outputs": [
    {
     "name": "stdout",
     "output_type": "stream",
     "text": [
      "Coordinates =  [ 0.75257736  7.32612896  3.32434068] ,    Parametric distance along ray from origin = 0.464\n",
      "Coordinates =  [ 0.75257736  7.32612896  3.64137301] ,    Parametric distance along ray from origin = 0.781\n",
      "Coordinates =  [ 0.75257736  7.32612896  3.87418443] ,    Parametric distance along ray from origin = 1.014\n",
      "Coordinates =  [ 0.75257736  7.32612896  4.41666534] ,    Parametric distance along ray from origin = 1.557\n"
     ]
    }
   ],
   "source": [
    "# Get intersection points for a single ray\n",
    "ray = rayPointList[0]\n",
    "for i in tree.rayIntersection(ray):\n",
    "    print 'Coordinates = ', i.p, ',    Parametric distance along ray from origin = %.3f' % i.s"
   ]
  },
  {
   "cell_type": "markdown",
   "metadata": {},
   "source": [
    "## Write out a vtk file of the octree structure "
   ]
  },
  {
   "cell_type": "code",
   "execution_count": 126,
   "metadata": {
    "collapsed": false
   },
   "outputs": [
    {
     "name": "stdout",
     "output_type": "stream",
     "text": [
      "None\n"
     ]
    }
   ],
   "source": [
    "# Create a vtk representation of Octree\n",
    "print tree.getOctreeRep()"
   ]
  }
 ],
 "metadata": {
  "kernelspec": {
   "display_name": "Python 2",
   "language": "python",
   "name": "python2"
  },
  "language_info": {
   "codemirror_mode": {
    "name": "ipython",
    "version": 2
   },
   "file_extension": ".py",
   "mimetype": "text/x-python",
   "name": "python",
   "nbconvert_exporter": "python",
   "pygments_lexer": "ipython2",
   "version": "2.7.6"
  }
 },
 "nbformat": 4,
 "nbformat_minor": 0
}
