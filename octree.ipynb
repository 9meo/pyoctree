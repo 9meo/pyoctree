{
 "metadata": {
  "name": "",
  "signature": "sha256:0e15a2364173fe6cf239c66438da29535dcf92de43f4240f5b15eb14dc89c5b7"
 },
 "nbformat": 3,
 "nbformat_minor": 0,
 "worksheets": [
  {
   "cells": [
    {
     "cell_type": "markdown",
     "metadata": {},
     "source": [
      "Projection of 3D shape onto plane\n",
      "---------------------------------\n",
      "\n",
      "Notes:\n",
      "- Projection performed using octree C++ module (https://github.com/mhogg/octree)\n",
      "- Parallel projection onto the z-plane"
     ]
    },
    {
     "cell_type": "code",
     "collapsed": false,
     "input": [
      "# Imports\n",
      "%pylab inline\n",
      "import vtk\n",
      "import octree\n",
      "from skimage import filter"
     ],
     "language": "python",
     "metadata": {},
     "outputs": []
    },
    {
     "cell_type": "code",
     "collapsed": false,
     "input": [
      "# Read in stl file\n",
      "reader = vtk.vtkSTLReader()\n",
      "reader.SetFileName(\"C:\\Work\\Biomedical\\pyShadow\\knot.stl\")\n",
      "reader.MergingOn()\n",
      "stl = reader.GetOutput()\n",
      "stl.Update()\n",
      "print \"Number of triangles = %d\" % stl.GetNumberOfCells()\n",
      "print \"Number of points = %d\" % stl.GetNumberOfPoints()"
     ],
     "language": "python",
     "metadata": {},
     "outputs": []
    },
    {
     "cell_type": "code",
     "collapsed": false,
     "input": [
      "# Define size of projected image (in pixels)\n",
      "width, height = 200, 200"
     ],
     "language": "python",
     "metadata": {},
     "outputs": []
    },
    {
     "cell_type": "code",
     "collapsed": false,
     "input": [
      "# Extract polygon info from stl\n",
      "\n",
      "# 1. Get array of point coordinates\n",
      "numPoints   = stl.GetNumberOfPoints()\n",
      "pointCoords = np.zeros((numPoints,3),dtype=float)\n",
      "for i in xrange(numPoints):\n",
      "    pointCoords[i,:] = stl.GetPoint(i)\n",
      "    \n",
      "# 2. Get polygon connectivity\n",
      "numPolys     = stl.GetNumberOfCells()\n",
      "connectivity = np.zeros((numPolys,3),dtype=np.int32)\n",
      "for i in xrange(numPolys):\n",
      "    atri = stl.GetCell(i)\n",
      "    ids = atri.GetPointIds()\n",
      "    for j in range(3):\n",
      "        connectivity[i,j] = ids.GetId(j)"
     ],
     "language": "python",
     "metadata": {},
     "outputs": []
    },
    {
     "cell_type": "code",
     "collapsed": false,
     "input": [
      "# Create octree structure containing stl poly mesh\n",
      "tree = octree.PyOctree(pointCoords,connectivity)"
     ],
     "language": "python",
     "metadata": {},
     "outputs": []
    },
    {
     "cell_type": "code",
     "collapsed": false,
     "input": [
      "# Create rays\n",
      "xs,xe,ys,ye,zs,ze = stl.GetBounds()\n",
      "perc = 0.05\n",
      "xr  = xe-xs\n",
      "yr  = ye-ys\n",
      "zr  = ze-zs\n",
      "xs -= xr*perc\n",
      "xe += xr*perc\n",
      "ys -= yr*perc\n",
      "ye += yr*perc\n",
      "zs -= zr*perc\n",
      "ze += zr*perc \n",
      "xr = linspace(xs,xe,width)\n",
      "yr = linspace(ys,ye,height)\n",
      "rayPointList = []\n",
      "for x in xr:\n",
      "    for y in yr:\n",
      "        rayPointList.append([[x,y,zs],[x,y,ze]])\n",
      "rayPointList = np.array(rayPointList,dtype=np.float32)"
     ],
     "language": "python",
     "metadata": {},
     "outputs": []
    },
    {
     "cell_type": "code",
     "collapsed": false,
     "input": [
      "# Perform intersections\n",
      "proj  = tree.rayIntersections(rayPointList)\n",
      "proj  = proj.reshape((width,height))\n",
      "proj  = proj.astype(float)\n",
      "proj  = proj[::-1,:]"
     ],
     "language": "python",
     "metadata": {},
     "outputs": []
    },
    {
     "cell_type": "code",
     "collapsed": false,
     "input": [
      "# Time projection\n",
      "%timeit -n1 -r1 proj = tree.rayIntersections(rayPointList)"
     ],
     "language": "python",
     "metadata": {},
     "outputs": []
    },
    {
     "cell_type": "code",
     "collapsed": false,
     "input": [
      "# Perform edge detection\n",
      "edges = filter.canny(proj,sigma=1.0)"
     ],
     "language": "python",
     "metadata": {},
     "outputs": []
    },
    {
     "cell_type": "code",
     "collapsed": false,
     "input": [
      "# Plot figures\n",
      "fig, (ax1, ax2) = subplots(nrows=1, ncols=2, figsize=(10, 4));\n",
      "\n",
      "ax1.imshow(proj, cmap=plt.cm.gray)\n",
      "ax1.axis('off')\n",
      "ax1.set_title('Projected object', fontsize=16)\n",
      "\n",
      "ax2.imshow(edges, cmap=plt.cm.gray)\n",
      "ax2.axis('off')\n",
      "ax2.set_title('Edge detection (Canny filter)', fontsize=16);\n",
      "\n",
      "fig.subplots_adjust(wspace=0.1, hspace=0.02, top=0.95, bottom=0.02, left=0.02, right=0.98)"
     ],
     "language": "python",
     "metadata": {},
     "outputs": []
    },
    {
     "cell_type": "code",
     "collapsed": false,
     "input": [],
     "language": "python",
     "metadata": {},
     "outputs": []
    }
   ],
   "metadata": {}
  }
 ]
}